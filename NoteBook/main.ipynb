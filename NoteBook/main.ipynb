version https://git-lfs.github.com/spec/v1
oid sha256:9b6ec27a2ff6c18ca81a483c41a797673378313179b6f779a8eb96165cf3fa38
size 3958698
