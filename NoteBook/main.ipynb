version https://git-lfs.github.com/spec/v1
oid sha256:c5e2ad7576198b51a21232fe1793dc6df40b59e99ab7b35bdb81acf4582fcfff
size 3890159
